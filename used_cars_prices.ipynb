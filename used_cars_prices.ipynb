{
    "cells": [
        {
            "cell_type": "markdown",
            "source": [
                "# Predicting used cars pricves in the Canadian market"
            ],
            "metadata": {}
        },
        {
            "cell_type": "markdown",
            "source": [
                "- what problem are we solving?\r\n",
                "- which dataset are we using? (min 50k row, 5 columns)\r\n",
                "- EDA on the dataset \r\n",
                "- Train and evaluate ML algorithms  (min 2 ML algos, 2 hyperparams for each algo)"
            ],
            "metadata": {}
        },
        {
            "cell_type": "code",
            "execution_count": null,
            "source": [
                "# prepare environment\r\n",
                "\r\n",
                "!pip install opendatasets pandas numpy matplotlib seaborn tqdm sklearn --quiet\r\n",
                "import pandas as pd\r\n",
                "import numpy as np\r\n",
                "import seaborn as sns \r\n",
                "import matplotlib.pyplot as plt\r\n",
                "import matplotlib\r\n",
                "from tqdm.notebook import tqdm\r\n",
                "import opendatasets as od\r\n",
                "sns.set_style('darkgrid')\r\n",
                "matplotlib.rcParams['font.size'] = 18\r\n",
                "matplotlib.rcParams['figure.figsize'] = (18, 10)\r\n",
                "matplotlib.rcParams['figure.facecolor'] = '#00000000'"
            ],
            "outputs": [],
            "metadata": {}
        },
        {
            "cell_type": "code",
            "execution_count": null,
            "source": [
                "# download data\r\n",
                "filepath = '.\\\\data\\\\marketcheck-automotive-data-us-canada'\r\n",
                "url = 'https://www.kaggle.com/rupeshraundal/marketcheck-automotive-data-us-canada?select=ca-dealers-used.csv'\r\n",
                "if not(os.path.exists(filepath)):\r\n",
                "    od.download_kaggle_dataset(url, filepath)    "
            ],
            "outputs": [],
            "metadata": {}
        },
        {
            "cell_type": "code",
            "execution_count": null,
            "source": [
                "# read csv data \r\n",
                "canada_ds = pd.read_csv(filepath+'\\\\ca-dealers-used.csv', low_memory=False)\r\n",
                "canada_ds.head(3) "
            ],
            "outputs": [],
            "metadata": {}
        },
        {
            "cell_type": "code",
            "execution_count": null,
            "source": [
                "# drop useless columns\r\n",
                "print(canada_ds.columns)\r\n",
                "drop_columns = ['id', 'vin','stock_no','seller_name', 'street','trim','engine_size', \r\n",
                "                'zip','body_type','fuel_type', 'engine_block','vehicle_type']\r\n",
                "canada_ds.drop(drop_columns,axis = 1, inplace=True)"
            ],
            "outputs": [],
            "metadata": {}
        },
        {
            "cell_type": "code",
            "execution_count": null,
            "source": [
                "canada_ds.info()"
            ],
            "outputs": [],
            "metadata": {}
        },
        {
            "cell_type": "code",
            "execution_count": null,
            "source": [
                "canada_ds.isna().sum()"
            ],
            "outputs": [],
            "metadata": {}
        },
        {
            "cell_type": "code",
            "execution_count": null,
            "source": [
                "canada_ds.dropna(inplace=True)"
            ],
            "outputs": [],
            "metadata": {}
        },
        {
            "cell_type": "code",
            "execution_count": null,
            "source": [
                "canada_ds"
            ],
            "outputs": [],
            "metadata": {}
        },
        {
            "cell_type": "code",
            "execution_count": null,
            "source": [
                "#fix state information\r\n",
                "canada_ds.state.unique()"
            ],
            "outputs": [],
            "metadata": {}
        },
        {
            "cell_type": "code",
            "execution_count": null,
            "source": [
                "#explain why?\r\n",
                "canada_ds.drop(index = canada_ds[canada_ds.state=='NC'].index, inplace=True)\r\n",
                "canada_ds['state'].replace('OH','ON',inplace=True)\r\n",
                "canada_ds['state'].replace('SC','QC',inplace=True)"
            ],
            "outputs": [],
            "metadata": {}
        },
        {
            "cell_type": "code",
            "execution_count": null,
            "source": [
                "# create Age column \r\n",
                "canada_ds['age'] = 2022- canada_ds['year'] "
            ],
            "outputs": [],
            "metadata": {}
        },
        {
            "cell_type": "code",
            "execution_count": null,
            "source": [
                "# filter very expensive and very old cars (outliers)\r\n",
                "canada_ds=canada_ds[canada_ds['age']<25]\r\n",
                "canada_ds=canada_ds[canada_ds['price']<100000]\r\n",
                "canada_ds=canada_ds[canada_ds['miles']<200000]\r\n",
                "canada_ds"
            ],
            "outputs": [],
            "metadata": {}
        },
        {
            "cell_type": "code",
            "execution_count": null,
            "source": [
                "#some graphs\r\n",
                "matplotlib.rcParams['figure.figsize'] = (15, 15)\r\n",
                "fig = sns.scatterplot(y ='price',x='miles', hue = 'age',data =canada_ds,s=10);"
            ],
            "outputs": [],
            "metadata": {}
        },
        {
            "cell_type": "code",
            "execution_count": null,
            "source": [
                "matplotlib.rcParams['figure.figsize'] = (15, 15)\r\n",
                "column = 'make'\r\n",
                "graph =  canada_ds.groupby(column)['price'].mean().sort_values(ascending=False).head(30)\r\n",
                "fig = sns.barplot(x = graph.values, y = graph.index);"
            ],
            "outputs": [],
            "metadata": {}
        },
        {
            "cell_type": "code",
            "execution_count": null,
            "source": [
                "matplotlib.rcParams['figure.figsize'] = (15, 15)\r\n",
                "column = 'model'\r\n",
                "graph =  canada_ds.groupby(column)['price'].mean().sort_values(ascending=False).head(30)\r\n",
                "fig = sns.barplot(x = graph.values, y = graph.index);"
            ],
            "outputs": [],
            "metadata": {}
        },
        {
            "cell_type": "code",
            "execution_count": null,
            "source": [
                "matplotlib.rcParams['figure.figsize'] = (15, 15)\r\n",
                "column = 'make'\r\n",
                "graph =  canada_ds.groupby(column)['price'].count().sort_values(ascending=False).head(30)\r\n",
                "fig = sns.barplot(x = graph.values, y = graph.index);"
            ],
            "outputs": [],
            "metadata": {}
        },
        {
            "cell_type": "code",
            "execution_count": null,
            "source": [
                "matplotlib.rcParams['figure.figsize'] = (15, 15)\r\n",
                "column = 'model'\r\n",
                "graph =  canada_ds.groupby(column)['price'].count().sort_values(ascending=False).head(30)\r\n",
                "fig = sns.barplot(x = graph.values, y = graph.index);"
            ],
            "outputs": [],
            "metadata": {}
        },
        {
            "cell_type": "code",
            "execution_count": null,
            "source": [
                "matplotlib.rcParams['figure.figsize'] = (10, 1)\r\n",
                "column = 'drivetrain'\r\n",
                "graph =  canada_ds.groupby(column)['price'].mean().sort_values(ascending=False)\r\n",
                "fig = sns.barplot(x = graph.values, y = graph.index);"
            ],
            "outputs": [],
            "metadata": {}
        },
        {
            "cell_type": "code",
            "execution_count": null,
            "source": [
                "matplotlib.rcParams['figure.figsize'] = (10, 1)\r\n",
                "column = 'drivetrain'\r\n",
                "graph =  canada_ds.groupby(column)['price'].count().sort_values(ascending=False)\r\n",
                "fig = sns.barplot(x = graph.values, y = graph.index);"
            ],
            "outputs": [],
            "metadata": {}
        },
        {
            "cell_type": "code",
            "execution_count": null,
            "source": [
                "matplotlib.rcParams['figure.figsize'] = (10, 1)\r\n",
                "column = 'transmission'\r\n",
                "graph =  canada_ds.groupby(column)['price'].mean().sort_values(ascending=False)\r\n",
                "fig = sns.barplot(x = graph.values, y = graph.index);"
            ],
            "outputs": [],
            "metadata": {}
        },
        {
            "cell_type": "code",
            "execution_count": null,
            "source": [
                "column = 'transmission'\r\n",
                "graph =  canada_ds.groupby(column)['price'].count().sort_values(ascending=False)\r\n",
                "fig = sns.barplot(x = graph.values, y = graph.index);"
            ],
            "outputs": [],
            "metadata": {}
        },
        {
            "cell_type": "code",
            "execution_count": null,
            "source": [
                "matplotlib.rcParams['figure.figsize'] = (10, 5)\r\n",
                "column = 'state'\r\n",
                "graph =  canada_ds.groupby(column)['price'].mean().sort_values(ascending=False)\r\n",
                "fig = sns.barplot(x = graph.values, y = graph.index);"
            ],
            "outputs": [],
            "metadata": {}
        },
        {
            "cell_type": "code",
            "execution_count": null,
            "source": [
                "matplotlib.rcParams['figure.figsize'] = (10, 5)\r\n",
                "column = 'state'\r\n",
                "graph =  canada_ds.groupby(column)['price'].count().sort_values(ascending=False)\r\n",
                "fig = sns.barplot(x = graph.values, y = graph.index);"
            ],
            "outputs": [],
            "metadata": {}
        },
        {
            "cell_type": "code",
            "execution_count": null,
            "source": [
                "matplotlib.rcParams['figure.figsize'] = (10, 5)\r\n",
                "column = 'make'\r\n",
                "graph =  canada_ds.groupby(column)['age'].mean().sort_values(ascending=True).head(15)\r\n",
                "fig = sns.barplot(x = graph.values, y = graph.index);"
            ],
            "outputs": [],
            "metadata": {}
        },
        {
            "cell_type": "code",
            "execution_count": null,
            "source": [
                "matplotlib.rcParams['figure.figsize'] = (10, 5)\r\n",
                "column = 'make'\r\n",
                "graph =  canada_ds.groupby(column)['age'].mean().sort_values(ascending=False).head(15)\r\n",
                "fig = sns.barplot(x = graph.values, y = graph.index);"
            ],
            "outputs": [],
            "metadata": {}
        },
        {
            "cell_type": "code",
            "execution_count": null,
            "source": [
                "matplotlib.rcParams['figure.figsize'] = (10, 5)\r\n",
                "column = 'make'\r\n",
                "graph =  canada_ds.groupby(column)['miles'].mean().sort_values(ascending=False).head(15)\r\n",
                "fig = sns.barplot(x = graph.values, y = graph.index);"
            ],
            "outputs": [],
            "metadata": {}
        },
        {
            "cell_type": "code",
            "execution_count": null,
            "source": [
                "matplotlib.rcParams['figure.figsize'] = (10, 2)\r\n",
                "column = 'transmission'\r\n",
                "graph =  canada_ds.groupby(column)['age'].mean().sort_values(ascending=False)\r\n",
                "fig = sns.barplot(x = graph.values, y = graph.index);"
            ],
            "outputs": [],
            "metadata": {}
        },
        {
            "cell_type": "markdown",
            "source": [
                "## machine learning"
            ],
            "metadata": {}
        },
        {
            "cell_type": "code",
            "execution_count": null,
            "source": [
                "# \tprice\tmiles\tyear\tmake\tmodel\tdrivetrain\ttransmission\tcity\tstate\tage\r\n",
                "target_cols = ['price']\r\n",
                "features_num_cols = ['miles', 'age',]\r\n",
                "features_cat_cols = ['make', 'model', 'drivetrain', 'transmission','state', 'city']"
            ],
            "outputs": [],
            "metadata": {}
        },
        {
            "cell_type": "code",
            "execution_count": null,
            "source": [
                "raw_data = canada_ds[features_num_cols+features_cat_cols+target_cols].copy()"
            ],
            "outputs": [],
            "metadata": {}
        },
        {
            "cell_type": "code",
            "execution_count": null,
            "source": [
                "# split train, test and val\r\n",
                "# remove annoying warnings from sklearn\r\n",
                "def warn(*args, **kwargs):\r\n",
                "    pass\r\n",
                "import warnings\r\n",
                "warnings.warn = warn\r\n",
                "\r\n",
                "from sklearn.model_selection import train_test_split\r\n",
                "trainval_data, test_data = train_test_split(raw_data, test_size = 0.2)\r\n",
                "train_data, val_data = train_test_split(trainval_data, test_size = 0.25)"
            ],
            "outputs": [],
            "metadata": {}
        },
        {
            "cell_type": "code",
            "execution_count": null,
            "source": [
                "# standardize numeric inputs\r\n",
                "from sklearn.preprocessing import StandardScaler, MinMaxScaler\r\n",
                "scaler = StandardScaler()\r\n",
                "scaler.fit(train_data[features_num_cols])\r\n",
                "train_data[features_num_cols] = scaler.transform(train_data[features_num_cols])\r\n",
                "test_data[features_num_cols] = scaler.transform(test_data[features_num_cols])\r\n",
                "val_data[features_num_cols] = scaler.transform(val_data[features_num_cols])\r\n"
            ],
            "outputs": [],
            "metadata": {}
        },
        {
            "cell_type": "code",
            "execution_count": null,
            "source": [
                "# one hot encoding categorical inputs\r\n",
                "from sklearn.preprocessing import OneHotEncoder\r\n",
                "encoder = OneHotEncoder(sparse=False, handle_unknown='ignore').fit(train_data[features_cat_cols])\r\n",
                "new_one_hot_cols = list(encoder.get_feature_names(features_cat_cols))\r\n",
                "train_data[new_one_hot_cols] = encoder.transform(train_data[features_cat_cols])\r\n",
                "test_data[new_one_hot_cols] = encoder.transform(test_data[features_cat_cols])\r\n",
                "val_data[new_one_hot_cols] = encoder.transform(val_data[features_cat_cols])"
            ],
            "outputs": [],
            "metadata": {}
        },
        {
            "cell_type": "code",
            "execution_count": null,
            "source": [
                "print('number of features ={}'.format(len(features_num_cols + new_one_hot_cols)))"
            ],
            "outputs": [],
            "metadata": {}
        },
        {
            "cell_type": "code",
            "execution_count": null,
            "source": [
                "# create input and output dataframes\r\n",
                "train_inputs = train_data[features_num_cols + new_one_hot_cols]\r\n",
                "test_inputs = test_data[features_num_cols + new_one_hot_cols]\r\n",
                "val_inputs = val_data[features_num_cols + new_one_hot_cols]\r\n",
                "\r\n",
                "train_output = train_data[target_cols]\r\n",
                "test_output = test_data[target_cols]\r\n",
                "val_output = val_data[target_cols]"
            ],
            "outputs": [],
            "metadata": {}
        },
        {
            "cell_type": "code",
            "execution_count": null,
            "source": [
                "print('output average ={:.2f}$'.format(train_output.mean().values[0]))"
            ],
            "outputs": [],
            "metadata": {}
        },
        {
            "cell_type": "code",
            "execution_count": null,
            "source": [
                "#first attempt XGBoost \r\n",
                "\r\n",
                "from sklearn.metrics import mean_squared_error\r\n",
                "from xgboost import XGBRegressor "
            ],
            "outputs": [],
            "metadata": {}
        },
        {
            "cell_type": "code",
            "execution_count": null,
            "source": [
                "#tune param max_depth\r\n",
                "n_init = 5\r\n",
                "results=[]\r\n",
                "for max_depth in tqdm(range(5,51,5)):\r\n",
                "    model = XGBRegressor(n_estimators = n_init, max_depth = max_depth)\r\n",
                "    model.fit(train_inputs, train_output)\r\n",
                "    train_preds = model.predict(train_inputs)\r\n",
                "    val_preds = model.predict(val_inputs)\r\n",
                "    error_train = mean_squared_error(train_output, train_preds, squared=False)\r\n",
                "    error_val = mean_squared_error(val_output, val_preds, squared=False)\r\n",
                "    print('max_depth = {}'.format(max_depth),\"error_train = {:.2f} *** error_val = {:.2f}\".format(error_train,error_val))\r\n",
                "    results.append([max_depth,error_train, error_val, model])"
            ],
            "outputs": [],
            "metadata": {}
        },
        {
            "cell_type": "code",
            "execution_count": null,
            "source": [
                "params = [results[i][0] for i in range(len(results))]\r\n",
                "T_e = [results[i][1] for i in range(len(results))]\r\n",
                "V_e = [results[i][2] for i in range(len(results))]\r\n",
                "plt.plot(params, V_e, 'r');\r\n",
                "plt.plot(params, T_e, 'g');\r\n",
                "# 40 seems to be the sweet spot"
            ],
            "outputs": [],
            "metadata": {}
        },
        {
            "cell_type": "code",
            "execution_count": null,
            "source": [
                "# tune param n_estimators\r\n",
                "max_depth_opt = 40\r\n",
                "results =[]\r\n",
                "for n_estimators in tqdm(range(10,61,5)):\r\n",
                "    model = XGBRegressor(n_estimators = n_estimators, max_depth = max_depth_opt)\r\n",
                "    model.fit(train_inputs, train_output)\r\n",
                "    train_preds = model.predict(train_inputs)\r\n",
                "    val_preds = model.predict(val_inputs)\r\n",
                "    error_train = mean_squared_error(train_output, train_preds, squared=False)\r\n",
                "    error_val = mean_squared_error(val_output, val_preds, squared=False)\r\n",
                "    print('n_estimators = {}'.format(n_estimators),\"error_train = {:.2f} *** error_val = {:.2f}\".format(error_train,error_val))\r\n",
                "    results.append([n_estimators, error_train, error_val, model])"
            ],
            "outputs": [],
            "metadata": {}
        },
        {
            "cell_type": "code",
            "execution_count": null,
            "source": [
                "params = [results[i][0] for i in range(len(results))]\r\n",
                "T_e = [results[i][1] for i in range(len(results))]\r\n",
                "V_e = [results[i][2] for i in range(len(results))]\r\n",
                "plt.plot(params, V_e, 'r');\r\n",
                "plt.plot(params, T_e, 'g');"
            ],
            "outputs": [],
            "metadata": {}
        },
        {
            "cell_type": "code",
            "execution_count": null,
            "source": [
                "# neural network\r\n",
                "from keras import models\r\n",
                "from keras import layers\r\n",
                "from keras.callbacks import EarlyStopping\r\n",
                "\r\n",
                "es = EarlyStopping(monitor='val_loss', mode='min', verbose=1, patience=10, restore_best_weights=True)\r\n",
                "\r\n",
                "network = models.Sequential()\r\n",
                "network.add(layers.Dense(2000 , activation='relu' , input_dim=len(features_num_cols + new_one_hot_cols))) \r\n",
                "network.add(layers.Dense(2000 , activation='relu')) \r\n",
                "network.add(layers.Dense(1)) \r\n",
                "\r\n",
                "network.compile(optimizer='adam', loss='MeanSquaredError', metrics=['RootMeanSquaredError'])\r\n",
                "\r\n",
                "# Training \r\n",
                "n_epochs =2000\r\n",
                "result = network.fit(train_inputs, train_output,epochs = n_epochs,verbose=1, batch_size = 10000,\r\n",
                "                     validation_data=(val_inputs,val_output),callbacks = [es])"
            ],
            "outputs": [],
            "metadata": {}
        },
        {
            "cell_type": "code",
            "execution_count": null,
            "source": [],
            "outputs": [],
            "metadata": {}
        },
        {
            "cell_type": "code",
            "execution_count": null,
            "source": [],
            "outputs": [],
            "metadata": {}
        }
    ],
    "metadata": {
        "orig_nbformat": 4,
        "language_info": {
            "name": "python",
            "version": "3.7.9",
            "mimetype": "text/x-python",
            "codemirror_mode": {
                "name": "ipython",
                "version": 3
            },
            "pygments_lexer": "ipython3",
            "nbconvert_exporter": "python",
            "file_extension": ".py"
        },
        "kernelspec": {
            "name": "python3",
            "display_name": "Python 3.7.9 64-bit"
        },
        "interpreter": {
            "hash": "684b1123683431d89d3bfe9a89cc763215f4b8cd94b4aba1fb40ad45ff7c8b41"
        }
    },
    "nbformat": 4,
    "nbformat_minor": 2
}