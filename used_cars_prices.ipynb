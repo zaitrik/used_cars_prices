{
    "cells": [
        {
            "cell_type": "markdown",
            "source": [
                "<p align=\"center\"> <img src=\"https://www.motorbiscuit.com/wp-content/uploads/2020/03/Used-Car-Dealership-Getty-5.jpg\"> </p> \r\n",
                "\r\n",
                "# Predicting used cars prices in the Canadian market"
            ],
            "metadata": {}
        },
        {
            "cell_type": "markdown",
            "source": [
                "When it comes to shopping for a used car, budget is one of the main constraints. Prices can differ for a variety of factors, and the experience is quite different than buying a new vehicle. The search process is the first step, and thanks to the internet, the buyer has access to a wealth of information and reviews. With all that said, there is virtually no way to know if an offer is **fair** or **overpriced**. In practice, *prior experience* and *extensive search* can help. How about using machine learning and data analysis to simplify the process and provide **unbiased** advice to the shopper?  \r\n",
                "In the following notebook, I will design and present two machine learning algorithms that will predict used car prices in Canada. The same process could be followed to obtain similar prediction software for the US market.  \r\n",
                " First, an exploratory data analysis (EDA) will be performed on a dataset that will be downloaded from **Kaggle**. In the second step, features will be engineered to train and tune two different machine learning regression algorithms.  \r\n",
                " This project is part of the [Zero to Data Science Bootcamp by Jovian](https://jovian.ai/learn/zero-to-data-analyst-bootcamp)."
            ],
            "metadata": {}
        },
        {
            "cell_type": "markdown",
            "source": [
                "## 1- Download used cars market data  \r\n",
                "In this section, we will install and import all the libraries that will be used throughout the notebook. After that, a large dataset of used cars listings (from Canada and the US) will be downloaded. We will focus on the canadian data, but similar approach can be used to explore the listings from the US."
            ],
            "metadata": {}
        },
        {
            "cell_type": "code",
            "execution_count": 1,
            "source": [
                "# download and import the libraries\r\n",
                "\r\n",
                "!pip install opendatasets pandas numpy matplotlib seaborn tqdm sklearn xgboost  --quiet\r\n",
                "import pandas as pd\r\n",
                "import numpy as np\r\n",
                "import seaborn as sns \r\n",
                "import matplotlib.pyplot as plt\r\n",
                "import matplotlib\r\n",
                "from tqdm.notebook import tqdm\r\n",
                "import opendatasets as od\r\n",
                "sns.set_style('darkgrid')\r\n",
                "matplotlib.rcParams['font.size'] = 18\r\n",
                "matplotlib.rcParams['figure.figsize'] = (18, 10)\r\n",
                "matplotlib.rcParams['figure.facecolor'] = '#00000000'"
            ],
            "outputs": [],
            "metadata": {}
        },
        {
            "cell_type": "markdown",
            "source": [
                "The library `OpenDataSets` by **Jovian** is a conveniant tool to get data from Kaggle. It requires a username and password from the account."
            ],
            "metadata": {}
        },
        {
            "cell_type": "code",
            "execution_count": 2,
            "source": [
                "# download data\r\n",
                "filepath = '.\\\\data\\\\marketcheck-automotive-data-us-canada'\r\n",
                "url = 'https://www.kaggle.com/rupeshraundal/marketcheck-automotive-data-us-canada?select=ca-dealers-used.csv'\r\n",
                "if not(os.path.exists(filepath)):\r\n",
                "    od.download_kaggle_dataset(url, filepath)    "
            ],
            "outputs": [],
            "metadata": {}
        },
        {
            "cell_type": "markdown",
            "source": [
                "This will download two seperate `csv` files. Let's explore the `ca-dealers-used.csv` file using `Pandas`."
            ],
            "metadata": {}
        },
        {
            "cell_type": "code",
            "execution_count": 3,
            "source": [
                "# read csv data \r\n",
                "canada_ds = pd.read_csv(filepath+'\\\\ca-dealers-used.csv', low_memory=False)\r\n",
                "canada_ds.head(3) "
            ],
            "outputs": [
                {
                    "output_type": "execute_result",
                    "data": {
                        "text/plain": [
                            "              id                vin     price    miles   stock_no    year  \\\n",
                            "0  b39ea795-eca9  19UNC1B01HY800062  179999.0   9966.0    V-P4139  2017.0   \n",
                            "1  026cb5b1-6e3e  19UNC1B02HY800023  179995.0   5988.0  PPAP70374  2017.0   \n",
                            "2  5cd5d5b2-5cc2  19UNC1B02HY800071  168528.0  24242.0     B21085  2017.0   \n",
                            "\n",
                            "    make model  trim body_type  ... drivetrain transmission  \\\n",
                            "0  Acura   NSX  Base     Coupe  ...        4WD    Automatic   \n",
                            "1  Acura   NSX  Base     Coupe  ...        4WD    Automatic   \n",
                            "2  Acura   NSX  Base     Coupe  ...        4WD    Automatic   \n",
                            "\n",
                            "                     fuel_type engine_size  engine_block  \\\n",
                            "0  Electric / Premium Unleaded         3.5             V   \n",
                            "1  Electric / Premium Unleaded         3.5             V   \n",
                            "2  Electric / Premium Unleaded         3.5             V   \n",
                            "\n",
                            "             seller_name                          street                 city  \\\n",
                            "0       edmundston honda                475 Rue Victoria           Edmundston   \n",
                            "1  garage daniel lessard  2795 Route-du-prsident-kennedy  Notre-dame-des-pins   \n",
                            "2         lougheed acura           1388 Lougheed Highway            Coquitlam   \n",
                            "\n",
                            "  state      zip  \n",
                            "0    NB  E3V 2K7  \n",
                            "1    QC  G0M 1K0  \n",
                            "2    BC  V3K 6S4  \n",
                            "\n",
                            "[3 rows x 21 columns]"
                        ],
                        "text/html": [
                            "<div>\n",
                            "<style scoped>\n",
                            "    .dataframe tbody tr th:only-of-type {\n",
                            "        vertical-align: middle;\n",
                            "    }\n",
                            "\n",
                            "    .dataframe tbody tr th {\n",
                            "        vertical-align: top;\n",
                            "    }\n",
                            "\n",
                            "    .dataframe thead th {\n",
                            "        text-align: right;\n",
                            "    }\n",
                            "</style>\n",
                            "<table border=\"1\" class=\"dataframe\">\n",
                            "  <thead>\n",
                            "    <tr style=\"text-align: right;\">\n",
                            "      <th></th>\n",
                            "      <th>id</th>\n",
                            "      <th>vin</th>\n",
                            "      <th>price</th>\n",
                            "      <th>miles</th>\n",
                            "      <th>stock_no</th>\n",
                            "      <th>year</th>\n",
                            "      <th>make</th>\n",
                            "      <th>model</th>\n",
                            "      <th>trim</th>\n",
                            "      <th>body_type</th>\n",
                            "      <th>...</th>\n",
                            "      <th>drivetrain</th>\n",
                            "      <th>transmission</th>\n",
                            "      <th>fuel_type</th>\n",
                            "      <th>engine_size</th>\n",
                            "      <th>engine_block</th>\n",
                            "      <th>seller_name</th>\n",
                            "      <th>street</th>\n",
                            "      <th>city</th>\n",
                            "      <th>state</th>\n",
                            "      <th>zip</th>\n",
                            "    </tr>\n",
                            "  </thead>\n",
                            "  <tbody>\n",
                            "    <tr>\n",
                            "      <th>0</th>\n",
                            "      <td>b39ea795-eca9</td>\n",
                            "      <td>19UNC1B01HY800062</td>\n",
                            "      <td>179999.0</td>\n",
                            "      <td>9966.0</td>\n",
                            "      <td>V-P4139</td>\n",
                            "      <td>2017.0</td>\n",
                            "      <td>Acura</td>\n",
                            "      <td>NSX</td>\n",
                            "      <td>Base</td>\n",
                            "      <td>Coupe</td>\n",
                            "      <td>...</td>\n",
                            "      <td>4WD</td>\n",
                            "      <td>Automatic</td>\n",
                            "      <td>Electric / Premium Unleaded</td>\n",
                            "      <td>3.5</td>\n",
                            "      <td>V</td>\n",
                            "      <td>edmundston honda</td>\n",
                            "      <td>475 Rue Victoria</td>\n",
                            "      <td>Edmundston</td>\n",
                            "      <td>NB</td>\n",
                            "      <td>E3V 2K7</td>\n",
                            "    </tr>\n",
                            "    <tr>\n",
                            "      <th>1</th>\n",
                            "      <td>026cb5b1-6e3e</td>\n",
                            "      <td>19UNC1B02HY800023</td>\n",
                            "      <td>179995.0</td>\n",
                            "      <td>5988.0</td>\n",
                            "      <td>PPAP70374</td>\n",
                            "      <td>2017.0</td>\n",
                            "      <td>Acura</td>\n",
                            "      <td>NSX</td>\n",
                            "      <td>Base</td>\n",
                            "      <td>Coupe</td>\n",
                            "      <td>...</td>\n",
                            "      <td>4WD</td>\n",
                            "      <td>Automatic</td>\n",
                            "      <td>Electric / Premium Unleaded</td>\n",
                            "      <td>3.5</td>\n",
                            "      <td>V</td>\n",
                            "      <td>garage daniel lessard</td>\n",
                            "      <td>2795 Route-du-prsident-kennedy</td>\n",
                            "      <td>Notre-dame-des-pins</td>\n",
                            "      <td>QC</td>\n",
                            "      <td>G0M 1K0</td>\n",
                            "    </tr>\n",
                            "    <tr>\n",
                            "      <th>2</th>\n",
                            "      <td>5cd5d5b2-5cc2</td>\n",
                            "      <td>19UNC1B02HY800071</td>\n",
                            "      <td>168528.0</td>\n",
                            "      <td>24242.0</td>\n",
                            "      <td>B21085</td>\n",
                            "      <td>2017.0</td>\n",
                            "      <td>Acura</td>\n",
                            "      <td>NSX</td>\n",
                            "      <td>Base</td>\n",
                            "      <td>Coupe</td>\n",
                            "      <td>...</td>\n",
                            "      <td>4WD</td>\n",
                            "      <td>Automatic</td>\n",
                            "      <td>Electric / Premium Unleaded</td>\n",
                            "      <td>3.5</td>\n",
                            "      <td>V</td>\n",
                            "      <td>lougheed acura</td>\n",
                            "      <td>1388 Lougheed Highway</td>\n",
                            "      <td>Coquitlam</td>\n",
                            "      <td>BC</td>\n",
                            "      <td>V3K 6S4</td>\n",
                            "    </tr>\n",
                            "  </tbody>\n",
                            "</table>\n",
                            "<p>3 rows × 21 columns</p>\n",
                            "</div>"
                        ]
                    },
                    "metadata": {},
                    "execution_count": 3
                }
            ],
            "metadata": {}
        },
        {
            "cell_type": "markdown",
            "source": [
                "Each transaction is detailled through multiple columns. The `VIN` number is unique to each car. This field will be used later to remove duplicates. Let's show the properties for each column."
            ],
            "metadata": {}
        },
        {
            "cell_type": "code",
            "execution_count": 4,
            "source": [
                "canada_ds.info()"
            ],
            "outputs": [
                {
                    "output_type": "stream",
                    "name": "stdout",
                    "text": [
                        "<class 'pandas.core.frame.DataFrame'>\n",
                        "RangeIndex: 393603 entries, 0 to 393602\n",
                        "Data columns (total 21 columns):\n",
                        " #   Column        Non-Null Count   Dtype  \n",
                        "---  ------        --------------   -----  \n",
                        " 0   id            393603 non-null  object \n",
                        " 1   vin           393603 non-null  object \n",
                        " 2   price         358486 non-null  float64\n",
                        " 3   miles         366590 non-null  float64\n",
                        " 4   stock_no      365929 non-null  object \n",
                        " 5   year          393586 non-null  float64\n",
                        " 6   make          393603 non-null  object \n",
                        " 7   model         388809 non-null  object \n",
                        " 8   trim          354824 non-null  object \n",
                        " 9   body_type     359578 non-null  object \n",
                        " 10  vehicle_type  355365 non-null  object \n",
                        " 11  drivetrain    354608 non-null  object \n",
                        " 12  transmission  357922 non-null  object \n",
                        " 13  fuel_type     322790 non-null  object \n",
                        " 14  engine_size   320950 non-null  float64\n",
                        " 15  engine_block  320439 non-null  object \n",
                        " 16  seller_name   391371 non-null  object \n",
                        " 17  street        385674 non-null  object \n",
                        " 18  city          385829 non-null  object \n",
                        " 19  state         385767 non-null  object \n",
                        " 20  zip           385834 non-null  object \n",
                        "dtypes: float64(4), object(17)\n",
                        "memory usage: 63.1+ MB\n"
                    ]
                }
            ],
            "metadata": {}
        },
        {
            "cell_type": "markdown",
            "source": [
                "It appears that some columns lack informations for a certain number of transactions. "
            ],
            "metadata": {}
        },
        {
            "cell_type": "code",
            "execution_count": 5,
            "source": [
                "canada_ds.isna().sum()"
            ],
            "outputs": [
                {
                    "output_type": "execute_result",
                    "data": {
                        "text/plain": [
                            "id                  0\n",
                            "vin                 0\n",
                            "price           35117\n",
                            "miles           27013\n",
                            "stock_no        27674\n",
                            "year               17\n",
                            "make                0\n",
                            "model            4794\n",
                            "trim            38779\n",
                            "body_type       34025\n",
                            "vehicle_type    38238\n",
                            "drivetrain      38995\n",
                            "transmission    35681\n",
                            "fuel_type       70813\n",
                            "engine_size     72653\n",
                            "engine_block    73164\n",
                            "seller_name      2232\n",
                            "street           7929\n",
                            "city             7774\n",
                            "state            7836\n",
                            "zip              7769\n",
                            "dtype: int64"
                        ]
                    },
                    "metadata": {},
                    "execution_count": 5
                }
            ],
            "metadata": {}
        },
        {
            "cell_type": "markdown",
            "source": [
                "We choose to drop all the rows missing pieces of information since we still will have a sufficient amount of data. Before that, we will drop all the columns that won't be used."
            ],
            "metadata": {}
        },
        {
            "cell_type": "code",
            "execution_count": 6,
            "source": [
                "unused_columns = ['id', 'stock_no','seller_name', 'street', 'engine_size',\r\n",
                "                'zip','fuel_type', 'engine_block']\r\n",
                "canada_ds.drop(unused_columns,axis = 1, inplace=True)\r\n",
                "canada_ds.dropna(inplace=True)"
            ],
            "outputs": [],
            "metadata": {}
        },
        {
            "cell_type": "markdown",
            "source": [
                "Then, we remove all duplicates using the same `vin` number."
            ],
            "metadata": {}
        },
        {
            "cell_type": "code",
            "execution_count": 7,
            "source": [
                "canada_ds.drop_duplicates('vin', inplace=True)\r\n",
                "canada_ds.info()"
            ],
            "outputs": [
                {
                    "output_type": "stream",
                    "name": "stdout",
                    "text": [
                        "<class 'pandas.core.frame.DataFrame'>\n",
                        "Int64Index: 158493 entries, 0 to 393602\n",
                        "Data columns (total 13 columns):\n",
                        " #   Column        Non-Null Count   Dtype  \n",
                        "---  ------        --------------   -----  \n",
                        " 0   vin           158493 non-null  object \n",
                        " 1   price         158493 non-null  float64\n",
                        " 2   miles         158493 non-null  float64\n",
                        " 3   year          158493 non-null  float64\n",
                        " 4   make          158493 non-null  object \n",
                        " 5   model         158493 non-null  object \n",
                        " 6   trim          158493 non-null  object \n",
                        " 7   body_type     158493 non-null  object \n",
                        " 8   vehicle_type  158493 non-null  object \n",
                        " 9   drivetrain    158493 non-null  object \n",
                        " 10  transmission  158493 non-null  object \n",
                        " 11  city          158493 non-null  object \n",
                        " 12  state         158493 non-null  object \n",
                        "dtypes: float64(3), object(10)\n",
                        "memory usage: 16.9+ MB\n"
                    ]
                }
            ],
            "metadata": {}
        },
        {
            "cell_type": "markdown",
            "source": [
                "The resulting data frame contains more than 158000 records, with no duplicate and no missing fields. Let's display more details about the column `state`."
            ],
            "metadata": {}
        },
        {
            "cell_type": "code",
            "execution_count": 8,
            "source": [
                "#fix state information\r\n",
                "canada_ds.state.unique()"
            ],
            "outputs": [
                {
                    "output_type": "execute_result",
                    "data": {
                        "text/plain": [
                            "array(['NB', 'QC', 'BC', 'ON', 'AB', 'MB', 'SK', 'NS', 'PE', 'NL', 'YT',\n",
                            "       'NC', 'OH', 'SC'], dtype=object)"
                        ]
                    },
                    "metadata": {},
                    "execution_count": 8
                }
            ],
            "metadata": {}
        },
        {
            "cell_type": "markdown",
            "source": [
                "`OH`, `NC` and `SC` do not represent canadian provinces. To fix this problem, we display the `city` values."
            ],
            "metadata": {}
        },
        {
            "cell_type": "code",
            "execution_count": 9,
            "source": [
                "canada_ds[canada_ds['state']=='OH']['city'].unique()"
            ],
            "outputs": [
                {
                    "output_type": "execute_result",
                    "data": {
                        "text/plain": [
                            "array(['Woodbridge'], dtype=object)"
                        ]
                    },
                    "metadata": {},
                    "execution_count": 9
                }
            ],
            "metadata": {}
        },
        {
            "cell_type": "markdown",
            "source": [
                "After some search, it turns out that *Woodbridge* is a city in Ontario. We just have to replace the values in the data frame. "
            ],
            "metadata": {}
        },
        {
            "cell_type": "code",
            "execution_count": 10,
            "source": [
                "canada_ds['state'].replace('OH','ON',inplace=True)"
            ],
            "outputs": [],
            "metadata": {}
        },
        {
            "cell_type": "markdown",
            "source": [
                "We proceed the same way with `SC` and `NC`. We found that `NC` doesn't contain any record in a canadian city, and `SC` contains records in **Quebec city, QC**."
            ],
            "metadata": {}
        },
        {
            "cell_type": "code",
            "execution_count": 11,
            "source": [
                "canada_ds.drop(index = canada_ds[canada_ds.state=='NC'].index, inplace=True)\r\n",
                "canada_ds['state'].replace('SC','QC',inplace=True)"
            ],
            "outputs": [],
            "metadata": {}
        },
        {
            "cell_type": "markdown",
            "source": [
                "The column `year` provides the model year of the car. "
            ],
            "metadata": {}
        },
        {
            "cell_type": "code",
            "execution_count": 12,
            "source": [
                "canada_ds['year'].describe()"
            ],
            "outputs": [
                {
                    "output_type": "execute_result",
                    "data": {
                        "text/plain": [
                            "count    158478.000000\n",
                            "mean       2016.341688\n",
                            "std           3.234555\n",
                            "min        1990.000000\n",
                            "25%        2015.000000\n",
                            "50%        2017.000000\n",
                            "75%        2019.000000\n",
                            "max        2022.000000\n",
                            "Name: year, dtype: float64"
                        ]
                    },
                    "metadata": {},
                    "execution_count": 12
                }
            ],
            "metadata": {}
        },
        {
            "cell_type": "markdown",
            "source": [
                "The data is a snapshot of the listings in 2021, with some cars labeled as from year 2022. This is a common practice in the automotive industry, known as the **model year**. We could create a column `age` using the data from `year`."
            ],
            "metadata": {}
        },
        {
            "cell_type": "code",
            "execution_count": 13,
            "source": [
                "# create Age column \r\n",
                "canada_ds['age'] = 2022- canada_ds['year'] "
            ],
            "outputs": [],
            "metadata": {}
        },
        {
            "cell_type": "markdown",
            "source": [
                "One last improvment to our data is to remove outliers, but limiting the age, price and mileage of cars."
            ],
            "metadata": {}
        },
        {
            "cell_type": "code",
            "execution_count": 14,
            "source": [
                "# filter very expensive and very old cars (outliers)\r\n",
                "canada_ds=canada_ds[canada_ds['age']<25]\r\n",
                "canada_ds=canada_ds[canada_ds['price']<100000]\r\n",
                "canada_ds=canada_ds[canada_ds['miles']<200000]\r\n",
                "canada_ds.info()"
            ],
            "outputs": [
                {
                    "output_type": "stream",
                    "name": "stdout",
                    "text": [
                        "<class 'pandas.core.frame.DataFrame'>\n",
                        "Int64Index: 151994 entries, 16 to 393599\n",
                        "Data columns (total 14 columns):\n",
                        " #   Column        Non-Null Count   Dtype  \n",
                        "---  ------        --------------   -----  \n",
                        " 0   vin           151994 non-null  object \n",
                        " 1   price         151994 non-null  float64\n",
                        " 2   miles         151994 non-null  float64\n",
                        " 3   year          151994 non-null  float64\n",
                        " 4   make          151994 non-null  object \n",
                        " 5   model         151994 non-null  object \n",
                        " 6   trim          151994 non-null  object \n",
                        " 7   body_type     151994 non-null  object \n",
                        " 8   vehicle_type  151994 non-null  object \n",
                        " 9   drivetrain    151994 non-null  object \n",
                        " 10  transmission  151994 non-null  object \n",
                        " 11  city          151994 non-null  object \n",
                        " 12  state         151994 non-null  object \n",
                        " 13  age           151994 non-null  float64\n",
                        "dtypes: float64(4), object(10)\n",
                        "memory usage: 17.4+ MB\n"
                    ]
                }
            ],
            "metadata": {}
        },
        {
            "cell_type": "markdown",
            "source": [
                "## 2- Exploratory Data Analysis"
            ],
            "metadata": {}
        },
        {
            "cell_type": "markdown",
            "source": [
                "In this section, we will display some graphs to get an intuition about the data that will be used to design the prediction algorithms."
            ],
            "metadata": {}
        },
        {
            "cell_type": "code",
            "execution_count": null,
            "source": [
                "matplotlib.rcParams['figure.figsize'] = (15, 15)\r\n",
                "fig = sns.scatterplot(y ='price',x='miles', hue = 'age',data =canada_ds,s=25);\r\n",
                "fig.set(xlabel = 'Mileage', ylabel = 'Price', title = 'Relationship between mileage, age and price');"
            ],
            "outputs": [],
            "metadata": {}
        },
        {
            "cell_type": "markdown",
            "source": [
                "It appears that expensive cars are either recent or have low mileage. There are some exceptions (consider the dark points) where some old cars can hold a high value, regardless of the mileage.  \r\n",
                "This next graphs show the most expensive, and the less expensive car makes in the market."
            ],
            "metadata": {}
        },
        {
            "cell_type": "code",
            "execution_count": null,
            "source": [
                "matplotlib.rcParams['figure.figsize'] = (15, 5)\r\n",
                "column = 'make'\r\n",
                "graph =  canada_ds.groupby(column)['price'].mean().sort_values(ascending=False).head(10)\r\n",
                "fig = sns.barplot(x = graph.values, y = graph.index);\r\n",
                "fig.set(xlabel = 'Price', ylabel = 'Make', title = 'Average price breakdown by make (luxury brands)');\r\n",
                "plt.figure()\r\n",
                "matplotlib.rcParams['figure.figsize'] = (15, 5)\r\n",
                "column = 'make'\r\n",
                "graph =  canada_ds.groupby(column)['price'].mean().sort_values(ascending=True).head(10)\r\n",
                "fig = sns.barplot(x = graph.values, y = graph.index);\r\n",
                "fig.set(xlabel = 'Price', ylabel = 'Make', title = 'Average price breakdown by make (economy brands)');"
            ],
            "outputs": [],
            "metadata": {}
        },
        {
            "cell_type": "markdown",
            "source": [
                "Let's explore which drivetrain is more common in Canada."
            ],
            "metadata": {}
        },
        {
            "cell_type": "code",
            "execution_count": null,
            "source": [
                "matplotlib.rcParams['figure.figsize'] = (10, 2)\r\n",
                "column = 'drivetrain'\r\n",
                "graph =  canada_ds.groupby(column)['price'].count().sort_values(ascending=False)\r\n",
                "fig = sns.barplot(x = graph.values, y = graph.index);\r\n",
                "fig.set(xlabel = 'Number of listings', ylabel = 'Drivetrain', title = 'Number of listings for each drivetrain type');"
            ],
            "outputs": [],
            "metadata": {}
        },
        {
            "cell_type": "markdown",
            "source": [
                "With no surprise, `4wd` cars are very common in Canada, due to its well-known winter!  \r\n",
                "The next graph will show how `Automatic` transmissions are more prefered in the canadian market."
            ],
            "metadata": {}
        },
        {
            "cell_type": "code",
            "execution_count": null,
            "source": [
                "matplotlib.rcParams['figure.figsize'] = (10, 1.5)\r\n",
                "column = 'transmission'\r\n",
                "graph =  canada_ds.groupby(column)['price'].count().sort_values(ascending=False)\r\n",
                "fig = sns.barplot(x = graph.values, y = graph.index);\r\n",
                "fig.set(xlabel = 'Number of listings', ylabel = 'Transmission', title = 'Number of listings for each transmission type');"
            ],
            "outputs": [],
            "metadata": {}
        },
        {
            "cell_type": "markdown",
            "source": [
                "Used vehicles are more expensive in some provinces, due to standard of living, taxes and emission control. This is shown in the next graph."
            ],
            "metadata": {}
        },
        {
            "cell_type": "code",
            "execution_count": null,
            "source": [
                "matplotlib.rcParams['figure.figsize'] = (10, 5)\r\n",
                "column = 'state'\r\n",
                "graph =  canada_ds.groupby(column)['price'].mean().sort_values(ascending=False)\r\n",
                "fig = sns.barplot(x = graph.values, y = graph.index);\r\n",
                "fig.set(xlabel = 'Average price', ylabel = 'Province', title = 'Average price for each province');"
            ],
            "outputs": [],
            "metadata": {}
        },
        {
            "cell_type": "markdown",
            "source": [
                "The market share of each provice is related to its population size. As we show on the next plot, Ontario has the highest number of listings (and the largest population)."
            ],
            "metadata": {}
        },
        {
            "cell_type": "code",
            "execution_count": null,
            "source": [
                "matplotlib.rcParams['figure.figsize'] = (10, 5)\r\n",
                "column = 'state'\r\n",
                "graph =  canada_ds.groupby(column)['price'].count().sort_values(ascending=False)\r\n",
                "fig = sns.barplot(x = graph.values, y = graph.index);\r\n",
                "fig.set(xlabel = 'Number of listings', ylabel = 'Province', title = 'Number of listings for each province');"
            ],
            "outputs": [],
            "metadata": {}
        },
        {
            "cell_type": "markdown",
            "source": [
                "## 3- Prepare data for machine learning"
            ],
            "metadata": {}
        },
        {
            "cell_type": "markdown",
            "source": [
                "After cleaning the data, we select the most suitable features to predict/evaluate a used car price. Here is a list of available features in the dataframe: "
            ],
            "metadata": {}
        },
        {
            "cell_type": "code",
            "execution_count": 102,
            "source": [
                "canada_ds.columns"
            ],
            "outputs": [
                {
                    "output_type": "execute_result",
                    "data": {
                        "text/plain": [
                            "Index(['vin', 'price', 'miles', 'year', 'make', 'model', 'drivetrain',\n",
                            "       'transmission', 'city', 'state', 'age'],\n",
                            "      dtype='object')"
                        ]
                    },
                    "metadata": {},
                    "execution_count": 102
                }
            ],
            "metadata": {}
        },
        {
            "cell_type": "markdown",
            "source": [
                "The output of our model will be obviously the **price**. We will not use the **VIN** number, and split the remaining features into two classes: numeric and categorical columns.  \r\n",
                "Note that a very important piece of information is missing here: **the car condition**. In the used car market, two very identical vehicles can have large price differences due to previous maintenance, accident history, rust, and interior condition. This missing information will affect the precision of the prediction process."
            ],
            "metadata": {}
        },
        {
            "cell_type": "code",
            "execution_count": 15,
            "source": [
                "target_cols = ['price']\r\n",
                "features_num_cols = ['miles', 'age',]\r\n",
                "features_cat_cols = ['make', 'model', 'drivetrain', 'transmission','state', 'city','trim','body_type','vehicle_type']"
            ],
            "outputs": [],
            "metadata": {}
        },
        {
            "cell_type": "code",
            "execution_count": 16,
            "source": [
                "raw_data = canada_ds[features_num_cols+features_cat_cols+target_cols].copy()\r\n",
                "print('Average price is ${:.2f}'.format(raw_data['price'].mean()))"
            ],
            "outputs": [
                {
                    "output_type": "stream",
                    "name": "stdout",
                    "text": [
                        "Average price is $25771.99\n"
                    ]
                }
            ],
            "metadata": {}
        },
        {
            "cell_type": "markdown",
            "source": [
                "The model output (*price*), has an average of $25k. The performance metrics of the regressions will be compared to this value."
            ],
            "metadata": {}
        },
        {
            "cell_type": "markdown",
            "source": [
                "First, we split the data into training, validation and testing sets."
            ],
            "metadata": {}
        },
        {
            "cell_type": "code",
            "execution_count": 17,
            "source": [
                "# split train, test and val\r\n",
                "# remove annoying warnings from sklearn\r\n",
                "def warn(*args, **kwargs):\r\n",
                "    pass\r\n",
                "import warnings\r\n",
                "warnings.warn = warn\r\n",
                "\r\n",
                "from sklearn.model_selection import train_test_split\r\n",
                "trainval_data, test_data = train_test_split(raw_data, test_size = 0.2)\r\n",
                "train_data, val_data = train_test_split(trainval_data, test_size = 0.25)"
            ],
            "outputs": [],
            "metadata": {}
        },
        {
            "cell_type": "markdown",
            "source": [
                "The numeric features will be scaled using *scikit learn* minmax scaler."
            ],
            "metadata": {}
        },
        {
            "cell_type": "code",
            "execution_count": 18,
            "source": [
                "# normalize numeric inputs\r\n",
                "from sklearn.preprocessing import StandardScaler, MinMaxScaler\r\n",
                "scaler = MinMaxScaler()\r\n",
                "scaler.fit(train_data[features_num_cols])\r\n",
                "train_data[features_num_cols] = scaler.transform(train_data[features_num_cols])\r\n",
                "test_data[features_num_cols] = scaler.transform(test_data[features_num_cols])\r\n",
                "val_data[features_num_cols] = scaler.transform(val_data[features_num_cols])\r\n"
            ],
            "outputs": [],
            "metadata": {}
        },
        {
            "cell_type": "markdown",
            "source": [
                "The categorical features will be transformed via a one hot encoding strategy."
            ],
            "metadata": {}
        },
        {
            "cell_type": "code",
            "execution_count": 19,
            "source": [
                "# one hot encoding categorical inputs\r\n",
                "from sklearn.preprocessing import OneHotEncoder\r\n",
                "encoder = OneHotEncoder(sparse=False, handle_unknown='ignore').fit(train_data[features_cat_cols])\r\n",
                "new_one_hot_cols = list(encoder.get_feature_names(features_cat_cols))\r\n",
                "train_data[new_one_hot_cols] = encoder.transform(train_data[features_cat_cols])\r\n",
                "test_data[new_one_hot_cols] = encoder.transform(test_data[features_cat_cols])\r\n",
                "val_data[new_one_hot_cols] = encoder.transform(val_data[features_cat_cols])"
            ],
            "outputs": [],
            "metadata": {}
        },
        {
            "cell_type": "markdown",
            "source": [
                "These transformations increase the number of features."
            ],
            "metadata": {}
        },
        {
            "cell_type": "code",
            "execution_count": 20,
            "source": [
                "print('number of features ={}'.format(len(features_num_cols + new_one_hot_cols)))"
            ],
            "outputs": [
                {
                    "output_type": "stream",
                    "name": "stdout",
                    "text": [
                        "number of features =2634\n"
                    ]
                }
            ],
            "metadata": {}
        },
        {
            "cell_type": "markdown",
            "source": [
                "The last step will be to create input and output dataframes for each set."
            ],
            "metadata": {}
        },
        {
            "cell_type": "code",
            "execution_count": 21,
            "source": [
                "# create input and output dataframes\r\n",
                "train_inputs = train_data[features_num_cols + new_one_hot_cols]\r\n",
                "test_inputs = test_data[features_num_cols + new_one_hot_cols]\r\n",
                "val_inputs = val_data[features_num_cols + new_one_hot_cols]\r\n",
                "\r\n",
                "train_output = train_data[target_cols]\r\n",
                "test_output = test_data[target_cols]\r\n",
                "val_output = val_data[target_cols]"
            ],
            "outputs": [],
            "metadata": {}
        },
        {
            "cell_type": "markdown",
            "source": [
                "## 4- Predicting the price using machine learning "
            ],
            "metadata": {}
        },
        {
            "cell_type": "markdown",
            "source": [
                "In this part, we will train and tune two different machine learning regression algorithms. The first method is based on gradient boosting, using the library **XGBoost**."
            ],
            "metadata": {}
        },
        {
            "cell_type": "markdown",
            "source": [
                "### 4-1 Regression using XGBoost"
            ],
            "metadata": {}
        },
        {
            "cell_type": "code",
            "execution_count": 22,
            "source": [
                "from sklearn.metrics import mean_squared_error\r\n",
                "from xgboost import XGBRegressor "
            ],
            "outputs": [],
            "metadata": {}
        },
        {
            "cell_type": "markdown",
            "source": [
                "**XGBoost** has multiple hyperparameters. In this notebook, we will tune two parameters:\r\n",
                "- max_depth: Maximum depth of a tree. Increasing this value will make the model more complex and more likely to overfit.\r\n",
                "- n_estimators: Number of trees. A high number of trees will most likely lead to overfitting."
            ],
            "metadata": {}
        },
        {
            "cell_type": "code",
            "execution_count": 24,
            "source": [
                "# max_depth selection\r\n",
                "n_init = 20 # this will be tuned later\r\n",
                "results=[]\r\n",
                "for max_depth in tqdm(range(5,51,5)):\r\n",
                "    model = XGBRegressor(n_estimators = n_init, max_depth = max_depth)\r\n",
                "    model.fit(train_inputs, train_output)\r\n",
                "    train_preds = model.predict(train_inputs)\r\n",
                "    val_preds = model.predict(val_inputs)\r\n",
                "    error_train = mean_squared_error(train_output, train_preds, squared=False)\r\n",
                "    error_val = mean_squared_error(val_output, val_preds, squared=False)\r\n",
                "    print('max_depth={}'.format(max_depth),\"RMS_error_train = {:.2f} *** RMS_error_val = {:.2f}\".format(error_train,error_val))\r\n",
                "    results.append([max_depth,error_train, error_val, model])"
            ],
            "outputs": [
                {
                    "output_type": "display_data",
                    "data": {
                        "text/plain": [
                            "HBox(children=(HTML(value=''), FloatProgress(value=0.0, max=10.0), HTML(value='')))"
                        ],
                        "application/vnd.jupyter.widget-view+json": {
                            "version_major": 2,
                            "version_minor": 0,
                            "model_id": "51699586681b42c1bb4fc9a71f318853"
                        }
                    },
                    "metadata": {}
                },
                {
                    "output_type": "stream",
                    "name": "stdout",
                    "text": [
                        "max_depth = 5 RMS_error_train = 6983.59 *** RMS_error_val = 7149.59\n",
                        "max_depth = 10 RMS_error_train = 4852.14 *** RMS_error_val = 5296.78\n",
                        "max_depth = 15 RMS_error_train = 3645.10 *** RMS_error_val = 4478.81\n",
                        "max_depth = 20 RMS_error_train = 2779.99 *** RMS_error_val = 4056.05\n",
                        "max_depth = 25 RMS_error_train = 2117.70 *** RMS_error_val = 3820.72\n",
                        "max_depth = 30 RMS_error_train = 1708.01 *** RMS_error_val = 3765.11\n",
                        "max_depth = 35 RMS_error_train = 1299.09 *** RMS_error_val = 3728.02\n",
                        "max_depth = 40 RMS_error_train = 1081.56 *** RMS_error_val = 3745.33\n",
                        "max_depth = 45 RMS_error_train = 847.99 *** RMS_error_val = 3746.32\n",
                        "max_depth = 50 RMS_error_train = 751.38 *** RMS_error_val = 3760.08\n",
                        "\n"
                    ]
                }
            ],
            "metadata": {}
        },
        {
            "cell_type": "code",
            "execution_count": 25,
            "source": [
                "params = [results[i][0] for i in range(len(results))]\r\n",
                "T_e = [results[i][1] for i in range(len(results))]\r\n",
                "V_e = [results[i][2] for i in range(len(results))]\r\n",
                "fig = sns.lineplot(x = params, y=  V_e, color = 'red');\r\n",
                "fig = sns.lineplot(x = params, y=  T_e, color = 'green');\r\n",
                "fig.set(xlabel = 'max_depth', ylabel = 'RMSE', Title='RMSE error on training and validation sets');\r\n",
                "fig.legend(title='Data set', labels = ['Validation','Training']);"
            ],
            "outputs": [
                {
                    "output_type": "display_data",
                    "data": {
                        "text/plain": [
                            "<Figure size 1296x720 with 1 Axes>"
                        ],
                        "image/png": "[encoded data removed]"
                    },
                    "metadata": {
                        "needs_background": "light"
                    }
                }
            ],
            "metadata": {}
        },
        {
            "cell_type": "markdown",
            "source": [
                "The optimal value for `max_depth` is 35. We use this value to find the optimal value of `n_estimators` "
            ],
            "metadata": {}
        },
        {
            "cell_type": "code",
            "execution_count": 26,
            "source": [
                "# n_estimators selection\r\n",
                "max_depth_opt = 35\r\n",
                "results =[]\r\n",
                "for n_estimators in tqdm(range(20,101,10)):\r\n",
                "    model = XGBRegressor(n_estimators = n_estimators, max_depth = max_depth_opt)\r\n",
                "    model.fit(train_inputs, train_output)\r\n",
                "    train_preds = model.predict(train_inputs)\r\n",
                "    val_preds = model.predict(val_inputs)\r\n",
                "    error_train = mean_squared_error(train_output, train_preds, squared=False)\r\n",
                "    error_val = mean_squared_error(val_output, val_preds, squared=False)\r\n",
                "    print('n_estimators={}'.format(n_estimators),\"RMS_error_train = {:.2f} *** RMS_error_val = {:.2f}\".format(error_train,error_val))\r\n",
                "    results.append([n_estimators, error_train, error_val, model])"
            ],
            "outputs": [
                {
                    "output_type": "display_data",
                    "data": {
                        "text/plain": [
                            "HBox(children=(HTML(value=''), FloatProgress(value=0.0, max=9.0), HTML(value='')))"
                        ],
                        "application/vnd.jupyter.widget-view+json": {
                            "version_major": 2,
                            "version_minor": 0,
                            "model_id": "73df3c89ec4941469dbf20700cd0ad31"
                        }
                    },
                    "metadata": {}
                },
                {
                    "output_type": "stream",
                    "name": "stdout",
                    "text": [
                        "n_estimators = 20 RMS_error_train = 1299.09 *** RMS_error_val = 3728.02\n"
                    ]
                }
            ],
            "metadata": {}
        },
        {
            "cell_type": "code",
            "execution_count": null,
            "source": [
                "params = [results[i][0] for i in range(len(results))]\r\n",
                "T_e = [results[i][1] for i in range(len(results))]\r\n",
                "V_e = [results[i][2] for i in range(len(results))]\r\n",
                "fig = sns.lineplot(x = params, y=  V_e, color = 'red');\r\n",
                "fig = sns.lineplot(x = params, y=  T_e, color = 'green');\r\n",
                "fig.set(xlabel = 'n_estimator', ylabel = 'RMSE', Title='RMSE error on training and validation sets');\r\n",
                "fig.legend(title='Data set', labels = ['Validation','Training']);"
            ],
            "outputs": [],
            "metadata": {}
        },
        {
            "cell_type": "markdown",
            "source": [
                "- final model selection\r\n",
                "- estimation of RMSE on test set\r\n",
                "- explanation on regression quality\r\n",
                "- a simple example\r\n",
                "- introduce a second ML algorithm (NN?)"
            ],
            "metadata": {}
        },
        {
            "cell_type": "code",
            "execution_count": null,
            "source": [
                "# neural network ?\r\n",
                "from keras import models\r\n",
                "from keras import layers\r\n",
                "from keras.callbacks import EarlyStopping\r\n",
                "\r\n",
                "es = EarlyStopping(monitor='val_loss', mode='min', verbose=1, patience=10, restore_best_weights=True)\r\n",
                "\r\n",
                "network = models.Sequential()\r\n",
                "network.add(layers.Dense(2000 , activation='relu' , input_dim=len(features_num_cols + new_one_hot_cols))) \r\n",
                "network.add(layers.Dense(2000 , activation='relu')) \r\n",
                "network.add(layers.Dense(1)) \r\n",
                "\r\n",
                "network.compile(optimizer='adam', loss='MeanSquaredError', metrics=['RootMeanSquaredError'])\r\n",
                "\r\n",
                "# Training \r\n",
                "n_epochs =2000\r\n",
                "result = network.fit(train_inputs, train_output,epochs = n_epochs,verbose=1, batch_size = 10000,\r\n",
                "                     validation_data=(val_inputs,val_output),callbacks = [es])"
            ],
            "outputs": [],
            "metadata": {}
        },
        {
            "cell_type": "markdown",
            "source": [
                "## 5- Conclusion and future work"
            ],
            "metadata": {}
        }
    ],
    "metadata": {
        "orig_nbformat": 4,
        "language_info": {
            "name": "python",
            "version": "3.7.9",
            "mimetype": "text/x-python",
            "codemirror_mode": {
                "name": "ipython",
                "version": 3
            },
            "pygments_lexer": "ipython3",
            "nbconvert_exporter": "python",
            "file_extension": ".py"
        },
        "kernelspec": {
            "name": "python3",
            "display_name": "Python 3.7.9 64-bit"
        },
        "interpreter": {
            "hash": "684b1123683431d89d3bfe9a89cc763215f4b8cd94b4aba1fb40ad45ff7c8b41"
        }
    },
    "nbformat": 4,
    "nbformat_minor": 2
}